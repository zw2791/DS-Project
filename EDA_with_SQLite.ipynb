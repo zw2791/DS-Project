{
  "cells": [
    {
      "cell_type": "code",
      "execution_count": null,
      "metadata": {
        "id": "HDIonfP9HRxN"
      },
      "outputs": [],
      "source": [
        "#!pip install sqlalchemy==1.3.9"
      ]
    },
    {
      "cell_type": "markdown",
      "metadata": {
        "id": "f6TFlkR7HRxO"
      },
      "source": [
        "### Connect to the database\n",
        "\n",
        "Let us first load the SQL extension and establish a connection with the database\n"
      ]
    },
    {
      "cell_type": "code",
      "execution_count": 2,
      "metadata": {
        "id": "8z_Nsfj5HRxP"
      },
      "outputs": [],
      "source": [
        "%load_ext sql"
      ]
    },
    {
      "cell_type": "code",
      "execution_count": 3,
      "metadata": {
        "id": "VRvjhd4OHRxP"
      },
      "outputs": [],
      "source": [
        "import csv, sqlite3\n",
        "\n",
        "con = sqlite3.connect(\"my_data1.db\")\n",
        "cur = con.cursor()"
      ]
    },
    {
      "cell_type": "code",
      "execution_count": 5,
      "metadata": {
        "colab": {
          "base_uri": "https://localhost:8080/",
          "height": 38
        },
        "id": "j_4t7kGcHRxQ",
        "outputId": "31225dbc-6261-4608-e686-8ba4a1dae056"
      },
      "outputs": [
        {
          "output_type": "execute_result",
          "data": {
            "text/plain": [
              "'Connected: @my_data1.db'"
            ],
            "application/vnd.google.colaboratory.intrinsic+json": {
              "type": "string"
            }
          },
          "metadata": {},
          "execution_count": 5
        }
      ],
      "source": [
        "%sql sqlite:///my_data1.db"
      ]
    },
    {
      "cell_type": "code",
      "execution_count": 6,
      "metadata": {
        "colab": {
          "base_uri": "https://localhost:8080/"
        },
        "id": "OKGwp_1LHRxQ",
        "outputId": "e411e238-9ea2-4e47-e332-a97290ef6a1e"
      },
      "outputs": [
        {
          "output_type": "stream",
          "name": "stderr",
          "text": [
            "/usr/local/lib/python3.7/dist-packages/pandas/core/generic.py:2882: UserWarning: The spaces in these column names will not be changed. In pandas versions < 0.14, spaces were converted to underscores.\n",
            "  both result in 0.1234 being formatted as 0.12.\n"
          ]
        }
      ],
      "source": [
        "import pandas as pd\n",
        "df = pd.read_csv(\"https://cf-courses-data.s3.us.cloud-object-storage.appdomain.cloud/IBM-DS0321EN-SkillsNetwork/labs/module_2/data/Spacex.csv\")\n",
        "df.to_sql(\"SPACEXTBL\", con, if_exists='replace', index=False,method=\"multi\")"
      ]
    },
    {
      "cell_type": "markdown",
      "metadata": {
        "id": "ueoITv2LHRxQ"
      },
      "source": [
        "## Tasks\n",
        "\n",
        "### Task 1\n",
        "\n",
        "##### Display the names of the unique launch sites  in the space mission\n"
      ]
    },
    {
      "cell_type": "code",
      "execution_count": 7,
      "metadata": {
        "colab": {
          "base_uri": "https://localhost:8080/",
          "height": 161
        },
        "id": "LcM8wEf6HRxR",
        "outputId": "4110cf54-7b6e-4efb-a475-800a9ecc14b8"
      },
      "outputs": [
        {
          "output_type": "stream",
          "name": "stdout",
          "text": [
            " * sqlite:///my_data1.db\n",
            "Done.\n"
          ]
        },
        {
          "output_type": "execute_result",
          "data": {
            "text/plain": [
              "[('CCAFS LC-40',), ('VAFB SLC-4E',), ('KSC LC-39A',), ('CCAFS SLC-40',)]"
            ],
            "text/html": [
              "<table>\n",
              "    <thead>\n",
              "        <tr>\n",
              "            <th>Launch_Site</th>\n",
              "        </tr>\n",
              "    </thead>\n",
              "    <tbody>\n",
              "        <tr>\n",
              "            <td>CCAFS LC-40</td>\n",
              "        </tr>\n",
              "        <tr>\n",
              "            <td>VAFB SLC-4E</td>\n",
              "        </tr>\n",
              "        <tr>\n",
              "            <td>KSC LC-39A</td>\n",
              "        </tr>\n",
              "        <tr>\n",
              "            <td>CCAFS SLC-40</td>\n",
              "        </tr>\n",
              "    </tbody>\n",
              "</table>"
            ]
          },
          "metadata": {},
          "execution_count": 7
        }
      ],
      "source": [
        "%sql SELECT DISTINCT LAUNCH_SITE FROM SPACEXTBL"
      ]
    },
    {
      "cell_type": "markdown",
      "metadata": {
        "id": "AW5ZgkrHHRxR"
      },
      "source": [
        "### Task 2\n",
        "\n",
        "##### Display 5 records where launch sites begin with the string 'CCA'\n"
      ]
    },
    {
      "cell_type": "code",
      "execution_count": 8,
      "metadata": {
        "colab": {
          "base_uri": "https://localhost:8080/",
          "height": 182
        },
        "id": "ofWHiDjVHRxR",
        "outputId": "286ee5b3-f839-42b8-e862-cc18d3803e79"
      },
      "outputs": [
        {
          "output_type": "stream",
          "name": "stdout",
          "text": [
            " * sqlite:///my_data1.db\n",
            "Done.\n"
          ]
        },
        {
          "output_type": "execute_result",
          "data": {
            "text/plain": [
              "[('CCAFS LC-40',),\n",
              " ('CCAFS LC-40',),\n",
              " ('CCAFS LC-40',),\n",
              " ('CCAFS LC-40',),\n",
              " ('CCAFS LC-40',)]"
            ],
            "text/html": [
              "<table>\n",
              "    <thead>\n",
              "        <tr>\n",
              "            <th>Launch_Site</th>\n",
              "        </tr>\n",
              "    </thead>\n",
              "    <tbody>\n",
              "        <tr>\n",
              "            <td>CCAFS LC-40</td>\n",
              "        </tr>\n",
              "        <tr>\n",
              "            <td>CCAFS LC-40</td>\n",
              "        </tr>\n",
              "        <tr>\n",
              "            <td>CCAFS LC-40</td>\n",
              "        </tr>\n",
              "        <tr>\n",
              "            <td>CCAFS LC-40</td>\n",
              "        </tr>\n",
              "        <tr>\n",
              "            <td>CCAFS LC-40</td>\n",
              "        </tr>\n",
              "    </tbody>\n",
              "</table>"
            ]
          },
          "metadata": {},
          "execution_count": 8
        }
      ],
      "source": [
        "%%sql \n",
        "SELECT LAUNCH_SITE \n",
        "FROM SPACEXTBL\n",
        "WHERE LAUNCH_SITE LIKE 'CCA%'\n",
        "LIMIT 5"
      ]
    },
    {
      "cell_type": "markdown",
      "metadata": {
        "id": "jAE0ZPTkHRxR"
      },
      "source": [
        "### Task 3\n",
        "\n",
        "##### Display the total payload mass carried by boosters launched by NASA (CRS)\n"
      ]
    },
    {
      "cell_type": "code",
      "execution_count": 9,
      "metadata": {
        "colab": {
          "base_uri": "https://localhost:8080/",
          "height": 96
        },
        "id": "VlF6DtZWHRxS",
        "outputId": "f827aad3-c44c-460c-aa2e-c397802c199d"
      },
      "outputs": [
        {
          "output_type": "stream",
          "name": "stdout",
          "text": [
            " * sqlite:///my_data1.db\n",
            "Done.\n"
          ]
        },
        {
          "output_type": "execute_result",
          "data": {
            "text/plain": [
              "[(45596, 'NASA (CRS)')]"
            ],
            "text/html": [
              "<table>\n",
              "    <thead>\n",
              "        <tr>\n",
              "            <th>Total_payload_mass</th>\n",
              "            <th>Customer</th>\n",
              "        </tr>\n",
              "    </thead>\n",
              "    <tbody>\n",
              "        <tr>\n",
              "            <td>45596</td>\n",
              "            <td>NASA (CRS)</td>\n",
              "        </tr>\n",
              "    </tbody>\n",
              "</table>"
            ]
          },
          "metadata": {},
          "execution_count": 9
        }
      ],
      "source": [
        "%%sql\n",
        "SELECT SUM(PAYLOAD_MASS__KG_) AS Total_payload_mass, CUSTOMER\n",
        "FROM SPACEXTBL\n",
        "WHERE CUSTOMER = 'NASA (CRS)'\n",
        "GROUP BY CUSTOMER"
      ]
    },
    {
      "cell_type": "markdown",
      "metadata": {
        "id": "S8IpBpbIHRxS"
      },
      "source": [
        "### Task 4\n",
        "\n",
        "##### Display average payload mass carried by booster version F9 v1.1\n"
      ]
    },
    {
      "cell_type": "code",
      "execution_count": 10,
      "metadata": {
        "colab": {
          "base_uri": "https://localhost:8080/",
          "height": 96
        },
        "id": "_DaSnmBJHRxS",
        "outputId": "725c87a3-a889-4fcf-a649-2ed494a6a383"
      },
      "outputs": [
        {
          "output_type": "stream",
          "name": "stdout",
          "text": [
            " * sqlite:///my_data1.db\n",
            "Done.\n"
          ]
        },
        {
          "output_type": "execute_result",
          "data": {
            "text/plain": [
              "[(2928.4, 'F9 v1.1')]"
            ],
            "text/html": [
              "<table>\n",
              "    <thead>\n",
              "        <tr>\n",
              "            <th>Average_payload_mass</th>\n",
              "            <th>Booster_Version</th>\n",
              "        </tr>\n",
              "    </thead>\n",
              "    <tbody>\n",
              "        <tr>\n",
              "            <td>2928.4</td>\n",
              "            <td>F9 v1.1</td>\n",
              "        </tr>\n",
              "    </tbody>\n",
              "</table>"
            ]
          },
          "metadata": {},
          "execution_count": 10
        }
      ],
      "source": [
        "%%sql\n",
        "SELECT AVG(PAYLOAD_MASS__KG_) AS Average_payload_mass, BOOSTER_VERSION\n",
        "FROM SPACEXTBL\n",
        "WHERE BOOSTER_VERSION = 'F9 v1.1'\n",
        "GROUP BY BOOSTER_VERSION"
      ]
    },
    {
      "cell_type": "markdown",
      "metadata": {
        "id": "IYznE_6hHRxS"
      },
      "source": [
        "### Task 5\n",
        "\n",
        "##### List the date when the first succesful landing outcome in ground pad was acheived.\n",
        "\n",
        "*Hint:Use min function*\n"
      ]
    },
    {
      "cell_type": "code",
      "execution_count": 11,
      "metadata": {
        "colab": {
          "base_uri": "https://localhost:8080/",
          "height": 96
        },
        "id": "8IY622ZLHRxS",
        "outputId": "ff07b7f1-250a-4b44-8742-328d3fc49359"
      },
      "outputs": [
        {
          "output_type": "stream",
          "name": "stdout",
          "text": [
            " * sqlite:///my_data1.db\n",
            "Done.\n"
          ]
        },
        {
          "output_type": "execute_result",
          "data": {
            "text/plain": [
              "[('01-05-2017', 'Success (ground pad)')]"
            ],
            "text/html": [
              "<table>\n",
              "    <thead>\n",
              "        <tr>\n",
              "            <th>MIN(DATE)</th>\n",
              "            <th>Landing _Outcome</th>\n",
              "        </tr>\n",
              "    </thead>\n",
              "    <tbody>\n",
              "        <tr>\n",
              "            <td>01-05-2017</td>\n",
              "            <td>Success (ground pad)</td>\n",
              "        </tr>\n",
              "    </tbody>\n",
              "</table>"
            ]
          },
          "metadata": {},
          "execution_count": 11
        }
      ],
      "source": [
        "%%sql\n",
        "SELECT MIN(DATE), \"Landing _Outcome\"\n",
        "FROM SPACEXTBL\n",
        "WHERE \"Landing _Outcome\" = 'Success (ground pad)'"
      ]
    },
    {
      "cell_type": "markdown",
      "metadata": {
        "id": "8opJcsTiHRxT"
      },
      "source": [
        "### Task 6\n",
        "\n",
        "##### List the names of the boosters which have success in drone ship and have payload mass greater than 4000 but less than 6000\n"
      ]
    },
    {
      "cell_type": "code",
      "execution_count": 12,
      "metadata": {
        "colab": {
          "base_uri": "https://localhost:8080/",
          "height": 545
        },
        "id": "jcq4H_94HRxT",
        "outputId": "c2e872f9-d12f-4e31-8f67-a18525ab4ce6"
      },
      "outputs": [
        {
          "output_type": "stream",
          "name": "stdout",
          "text": [
            " * sqlite:///my_data1.db\n",
            "Done.\n"
          ]
        },
        {
          "output_type": "execute_result",
          "data": {
            "text/plain": [
              "[('AsiaSat 8', 'Success'),\n",
              " ('AsiaSat 6', 'Success'),\n",
              " ('ABS-3A Eutelsat 115 West B', 'Success'),\n",
              " ('Turkmen 52 / MonacoSAT', 'Success'),\n",
              " ('SES-9', 'Success'),\n",
              " ('JCSAT-14', 'Success'),\n",
              " ('JCSAT-16', 'Success'),\n",
              " ('EchoStar 23', 'Success'),\n",
              " ('SES-10', 'Success'),\n",
              " ('NROL-76', 'Success'),\n",
              " ('Boeing X-37B OTV-5', 'Success'),\n",
              " ('SES-11 / EchoStar 105', 'Success'),\n",
              " ('GovSat-1 / SES-16', 'Success'),\n",
              " ('SES-12', 'Success'),\n",
              " ('Merah Putih ', 'Success'),\n",
              " ('Es hail 2', 'Success'),\n",
              " ('SSO-A ', 'Success'),\n",
              " ('Nusantara Satu, Beresheet Moon lander, S5', 'Success'),\n",
              " ('RADARSAT Constellation, SpaceX CRS-18 ', 'Success'),\n",
              " ('GPS III-03, ANASIS-II', 'Success'),\n",
              " ('ANASIS-II, Starlink 9 v1.0', 'Success'),\n",
              " ('GPS III-04 , Crew-1', 'Success')]"
            ],
            "text/html": [
              "<table>\n",
              "    <thead>\n",
              "        <tr>\n",
              "            <th>Payload</th>\n",
              "            <th>Mission_Outcome</th>\n",
              "        </tr>\n",
              "    </thead>\n",
              "    <tbody>\n",
              "        <tr>\n",
              "            <td>AsiaSat 8</td>\n",
              "            <td>Success</td>\n",
              "        </tr>\n",
              "        <tr>\n",
              "            <td>AsiaSat 6</td>\n",
              "            <td>Success</td>\n",
              "        </tr>\n",
              "        <tr>\n",
              "            <td>ABS-3A Eutelsat 115 West B</td>\n",
              "            <td>Success</td>\n",
              "        </tr>\n",
              "        <tr>\n",
              "            <td>Turkmen 52 / MonacoSAT</td>\n",
              "            <td>Success</td>\n",
              "        </tr>\n",
              "        <tr>\n",
              "            <td>SES-9</td>\n",
              "            <td>Success</td>\n",
              "        </tr>\n",
              "        <tr>\n",
              "            <td>JCSAT-14</td>\n",
              "            <td>Success</td>\n",
              "        </tr>\n",
              "        <tr>\n",
              "            <td>JCSAT-16</td>\n",
              "            <td>Success</td>\n",
              "        </tr>\n",
              "        <tr>\n",
              "            <td>EchoStar 23</td>\n",
              "            <td>Success</td>\n",
              "        </tr>\n",
              "        <tr>\n",
              "            <td>SES-10</td>\n",
              "            <td>Success</td>\n",
              "        </tr>\n",
              "        <tr>\n",
              "            <td>NROL-76</td>\n",
              "            <td>Success</td>\n",
              "        </tr>\n",
              "        <tr>\n",
              "            <td>Boeing X-37B OTV-5</td>\n",
              "            <td>Success</td>\n",
              "        </tr>\n",
              "        <tr>\n",
              "            <td>SES-11 / EchoStar 105</td>\n",
              "            <td>Success</td>\n",
              "        </tr>\n",
              "        <tr>\n",
              "            <td>GovSat-1 / SES-16</td>\n",
              "            <td>Success</td>\n",
              "        </tr>\n",
              "        <tr>\n",
              "            <td>SES-12</td>\n",
              "            <td>Success</td>\n",
              "        </tr>\n",
              "        <tr>\n",
              "            <td>Merah Putih </td>\n",
              "            <td>Success</td>\n",
              "        </tr>\n",
              "        <tr>\n",
              "            <td>Es hail 2</td>\n",
              "            <td>Success</td>\n",
              "        </tr>\n",
              "        <tr>\n",
              "            <td>SSO-A </td>\n",
              "            <td>Success</td>\n",
              "        </tr>\n",
              "        <tr>\n",
              "            <td>Nusantara Satu, Beresheet Moon lander, S5</td>\n",
              "            <td>Success</td>\n",
              "        </tr>\n",
              "        <tr>\n",
              "            <td>RADARSAT Constellation, SpaceX CRS-18 </td>\n",
              "            <td>Success</td>\n",
              "        </tr>\n",
              "        <tr>\n",
              "            <td>GPS III-03, ANASIS-II</td>\n",
              "            <td>Success</td>\n",
              "        </tr>\n",
              "        <tr>\n",
              "            <td>ANASIS-II, Starlink 9 v1.0</td>\n",
              "            <td>Success</td>\n",
              "        </tr>\n",
              "        <tr>\n",
              "            <td>GPS III-04 , Crew-1</td>\n",
              "            <td>Success</td>\n",
              "        </tr>\n",
              "    </tbody>\n",
              "</table>"
            ]
          },
          "metadata": {},
          "execution_count": 12
        }
      ],
      "source": [
        "%%sql\n",
        "SELECT DISTINCT PAYLOAD, MISSION_OUTCOME\n",
        "FROM SPACEXTBL\n",
        "WHERE MISSION_OUTCOME = 'Success'\n",
        "AND PAYLOAD_MASS__KG_ BETWEEN 4000 AND 6000"
      ]
    },
    {
      "cell_type": "markdown",
      "metadata": {
        "id": "DQE3SF6_HRxT"
      },
      "source": [
        "### Task 7\n",
        "\n",
        "##### List the total number of successful and failure mission outcomes\n"
      ]
    },
    {
      "cell_type": "code",
      "execution_count": 13,
      "metadata": {
        "colab": {
          "base_uri": "https://localhost:8080/",
          "height": 161
        },
        "id": "wsq0myqEHRxU",
        "outputId": "5e975113-5539-4621-c1a3-b4e18916705d"
      },
      "outputs": [
        {
          "output_type": "stream",
          "name": "stdout",
          "text": [
            " * sqlite:///my_data1.db\n",
            "Done.\n"
          ]
        },
        {
          "output_type": "execute_result",
          "data": {
            "text/plain": [
              "[('Failure (in flight)', 1),\n",
              " ('Success', 98),\n",
              " ('Success ', 1),\n",
              " ('Success (payload status unclear)', 1)]"
            ],
            "text/html": [
              "<table>\n",
              "    <thead>\n",
              "        <tr>\n",
              "            <th>Mission_Outcome</th>\n",
              "            <th>COUNT(*)</th>\n",
              "        </tr>\n",
              "    </thead>\n",
              "    <tbody>\n",
              "        <tr>\n",
              "            <td>Failure (in flight)</td>\n",
              "            <td>1</td>\n",
              "        </tr>\n",
              "        <tr>\n",
              "            <td>Success</td>\n",
              "            <td>98</td>\n",
              "        </tr>\n",
              "        <tr>\n",
              "            <td>Success </td>\n",
              "            <td>1</td>\n",
              "        </tr>\n",
              "        <tr>\n",
              "            <td>Success (payload status unclear)</td>\n",
              "            <td>1</td>\n",
              "        </tr>\n",
              "    </tbody>\n",
              "</table>"
            ]
          },
          "metadata": {},
          "execution_count": 13
        }
      ],
      "source": [
        "%%sql \n",
        "SELECT DISTINCT MISSION_OUTCOME, COUNT(*) \n",
        "FROM SPACEXTBL \n",
        "GROUP BY MISSION_OUTCOME"
      ]
    },
    {
      "cell_type": "markdown",
      "metadata": {
        "id": "5DzaVu1uHRxU"
      },
      "source": [
        "### Task 8\n",
        "\n",
        "##### List the   names of the booster_versions which have carried the maximum payload mass. Use a subquery\n"
      ]
    },
    {
      "cell_type": "code",
      "execution_count": 14,
      "metadata": {
        "colab": {
          "base_uri": "https://localhost:8080/",
          "height": 331
        },
        "id": "TH63DkDVHRxU",
        "outputId": "f502a6e6-de1c-43f2-c747-56f79ea610d3"
      },
      "outputs": [
        {
          "output_type": "stream",
          "name": "stdout",
          "text": [
            " * sqlite:///my_data1.db\n",
            "Done.\n"
          ]
        },
        {
          "output_type": "execute_result",
          "data": {
            "text/plain": [
              "[('F9 B5 B1048.4', 15600),\n",
              " ('F9 B5 B1049.4', 15600),\n",
              " ('F9 B5 B1051.3', 15600),\n",
              " ('F9 B5 B1056.4', 15600),\n",
              " ('F9 B5 B1048.5', 15600),\n",
              " ('F9 B5 B1051.4', 15600),\n",
              " ('F9 B5 B1049.5', 15600),\n",
              " ('F9 B5 B1060.2 ', 15600),\n",
              " ('F9 B5 B1058.3 ', 15600),\n",
              " ('F9 B5 B1051.6', 15600),\n",
              " ('F9 B5 B1060.3', 15600),\n",
              " ('F9 B5 B1049.7 ', 15600)]"
            ],
            "text/html": [
              "<table>\n",
              "    <thead>\n",
              "        <tr>\n",
              "            <th>Booster_Version</th>\n",
              "            <th>PAYLOAD_MASS__KG_</th>\n",
              "        </tr>\n",
              "    </thead>\n",
              "    <tbody>\n",
              "        <tr>\n",
              "            <td>F9 B5 B1048.4</td>\n",
              "            <td>15600</td>\n",
              "        </tr>\n",
              "        <tr>\n",
              "            <td>F9 B5 B1049.4</td>\n",
              "            <td>15600</td>\n",
              "        </tr>\n",
              "        <tr>\n",
              "            <td>F9 B5 B1051.3</td>\n",
              "            <td>15600</td>\n",
              "        </tr>\n",
              "        <tr>\n",
              "            <td>F9 B5 B1056.4</td>\n",
              "            <td>15600</td>\n",
              "        </tr>\n",
              "        <tr>\n",
              "            <td>F9 B5 B1048.5</td>\n",
              "            <td>15600</td>\n",
              "        </tr>\n",
              "        <tr>\n",
              "            <td>F9 B5 B1051.4</td>\n",
              "            <td>15600</td>\n",
              "        </tr>\n",
              "        <tr>\n",
              "            <td>F9 B5 B1049.5</td>\n",
              "            <td>15600</td>\n",
              "        </tr>\n",
              "        <tr>\n",
              "            <td>F9 B5 B1060.2 </td>\n",
              "            <td>15600</td>\n",
              "        </tr>\n",
              "        <tr>\n",
              "            <td>F9 B5 B1058.3 </td>\n",
              "            <td>15600</td>\n",
              "        </tr>\n",
              "        <tr>\n",
              "            <td>F9 B5 B1051.6</td>\n",
              "            <td>15600</td>\n",
              "        </tr>\n",
              "        <tr>\n",
              "            <td>F9 B5 B1060.3</td>\n",
              "            <td>15600</td>\n",
              "        </tr>\n",
              "        <tr>\n",
              "            <td>F9 B5 B1049.7 </td>\n",
              "            <td>15600</td>\n",
              "        </tr>\n",
              "    </tbody>\n",
              "</table>"
            ]
          },
          "metadata": {},
          "execution_count": 14
        }
      ],
      "source": [
        "%%sql \n",
        "SELECT DISTINCT BOOSTER_VERSION, PAYLOAD_MASS__KG_\n",
        "FROM SPACEXTBL\n",
        "WHERE PAYLOAD_MASS__KG_ IN\n",
        "    (SELECT MAX(PAYLOAD_MASS__KG_) FROM SPACEXTBL)"
      ]
    },
    {
      "cell_type": "markdown",
      "metadata": {
        "id": "eg18_kLaHRxU"
      },
      "source": [
        "### Task 9\n",
        "\n",
        "##### List the records which will display the month names, failure landing_outcomes in drone ship ,booster versions, launch_site for the months in year 2015.\n",
        "\n",
        "**Note: SQLLite does not support monthnames. So you need to use  substr(Date, 4, 2) as month to get the months and substr(Date,7,4)='2015' for year.**\n"
      ]
    },
    {
      "cell_type": "code",
      "execution_count": 15,
      "metadata": {
        "colab": {
          "base_uri": "https://localhost:8080/",
          "height": 118
        },
        "id": "8qCiYNVEHRxU",
        "outputId": "e37c2a28-ccab-4957-cd1b-8fc54c15eb6f"
      },
      "outputs": [
        {
          "output_type": "stream",
          "name": "stdout",
          "text": [
            " * sqlite:///my_data1.db\n",
            "Done.\n"
          ]
        },
        {
          "output_type": "execute_result",
          "data": {
            "text/plain": [
              "[('01', 'Failure (drone ship)', 'F9 v1.1 B1012', 'CCAFS LC-40'),\n",
              " ('04', 'Failure (drone ship)', 'F9 v1.1 B1015', 'CCAFS LC-40')]"
            ],
            "text/html": [
              "<table>\n",
              "    <thead>\n",
              "        <tr>\n",
              "            <th>substr(Date,4,2)</th>\n",
              "            <th>Landing _Outcome</th>\n",
              "            <th>Booster_Version</th>\n",
              "            <th>Launch_Site</th>\n",
              "        </tr>\n",
              "    </thead>\n",
              "    <tbody>\n",
              "        <tr>\n",
              "            <td>01</td>\n",
              "            <td>Failure (drone ship)</td>\n",
              "            <td>F9 v1.1 B1012</td>\n",
              "            <td>CCAFS LC-40</td>\n",
              "        </tr>\n",
              "        <tr>\n",
              "            <td>04</td>\n",
              "            <td>Failure (drone ship)</td>\n",
              "            <td>F9 v1.1 B1015</td>\n",
              "            <td>CCAFS LC-40</td>\n",
              "        </tr>\n",
              "    </tbody>\n",
              "</table>"
            ]
          },
          "metadata": {},
          "execution_count": 15
        }
      ],
      "source": [
        "%%sql\n",
        "SELECT substr(Date,4,2), \"Landing _Outcome\", BOOSTER_VERSION, LAUNCH_SITE\n",
        "FROM SPACEXTBL\n",
        "WHERE \"Landing _Outcome\" = 'Failure (drone ship)'\n",
        "    AND substr(Date,7,4) = '2015'"
      ]
    },
    {
      "cell_type": "markdown",
      "metadata": {
        "id": "v618dsoMHRxV"
      },
      "source": [
        "### Task 10\n",
        "\n",
        "##### Rank the  count of  successful landing_outcomes between the date 04-06-2010 and 20-03-2017 in descending order.\n"
      ]
    },
    {
      "cell_type": "code",
      "execution_count": 16,
      "metadata": {
        "colab": {
          "base_uri": "https://localhost:8080/"
        },
        "id": "Doht-OeKHRxV",
        "outputId": "fdbaf395-a42a-4a28-f0d0-ecf0016bb660"
      },
      "outputs": [
        {
          "output_type": "stream",
          "name": "stdout",
          "text": [
            " * sqlite:///my_data1.db\n",
            "(sqlite3.OperationalError) near \"(\": syntax error\n",
            "[SQL: SELECT DATE, \"Landing _Outcome\", COUNT(*) AS Total,\n",
            "    ROW_NUMBER() OVER(ORDER BY COUNT(*) DESC) Rank\n",
            "FROM SPACEXTBL\n",
            "WHERE \"Landing _Outcome\" LIKE '%Success%'\n",
            "    AND DATE BETWEEN '04-06-2010' and '20-03-2017'\n",
            "GROUP BY \"Landing _Outcome\"]\n",
            "(Background on this error at: http://sqlalche.me/e/e3q8)\n"
          ]
        }
      ],
      "source": [
        "%%sql\n",
        "SELECT DATE, \"Landing _Outcome\", COUNT(*) AS Total,\n",
        "    ROW_NUMBER() OVER(ORDER BY COUNT(*) DESC) Rank\n",
        "FROM SPACEXTBL\n",
        "WHERE \"Landing _Outcome\" LIKE '%Success%'\n",
        "    AND DATE BETWEEN '04-06-2010' and '20-03-2017'\n",
        "GROUP BY \"Landing _Outcome\""
      ]
    }
  ],
  "metadata": {
    "kernelspec": {
      "display_name": "Python",
      "language": "python",
      "name": "conda-env-python-py"
    },
    "language_info": {
      "codemirror_mode": {
        "name": "ipython",
        "version": 3
      },
      "file_extension": ".py",
      "mimetype": "text/x-python",
      "name": "python",
      "nbconvert_exporter": "python",
      "pygments_lexer": "ipython3",
      "version": "3.7.12"
    },
    "colab": {
      "name": "EDA with SQLite.ipynb",
      "provenance": [],
      "collapsed_sections": []
    }
  },
  "nbformat": 4,
  "nbformat_minor": 0
}